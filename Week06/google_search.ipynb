{
 "cells": [
  {
   "cell_type": "code",
   "execution_count": 1,
   "metadata": {},
   "outputs": [
    {
     "name": "stdout",
     "output_type": "stream",
     "text": [
      "標題：Steam 上的Baldur's Gate 3store.steampowered.com › app › Baldurs_Gate_3\n",
      "網址：/url?q=https://store.steampowered.com/app/1086940/Baldurs_Gate_3/%3Fl%3Dschinese&sa=U&ved=2ahUKEwi395TggY-CAxUNr1YBHWikBYwQFnoECAEQAg&usg=AOvVaw1DpDjlba_MoNdCnLktbilt\n",
      "\n",
      "標題：柏德之門3 - 維基百科，自由的百科全書zh.wikipedia.org › zh-tw › 博德之门3\n",
      "網址：/url?q=https://zh.wikipedia.org/zh-tw/%25E5%258D%259A%25E5%25BE%25B7%25E4%25B9%258B%25E9%2597%25A83&sa=U&ved=2ahUKEwi395TggY-CAxUNr1YBHWikBYwQFnoECAQQAg&usg=AOvVaw1OG59ipZh-g_SPRAtM06mN\n",
      "\n",
      "標題：柏德之門系列哈啦板 - 巴哈姆特forum.gamer.com.tw › B.php\n",
      "網址：/url?q=https://forum.gamer.com.tw/B.php%3Fbsn%3D2954&sa=U&ved=2ahUKEwi395TggY-CAxUNr1YBHWikBYwQFnoECAcQAg&usg=AOvVaw1LiQeKRRVW2DRw5hfznX7y\n",
      "\n",
      "標題：混亂才是跑團的醍醐味！腦洞的隊友才是樂趣來源《博德之門3》正式 ...www.4gamers.com.tw › news › detail › baldur-s-gate-3-review\n",
      "網址：/url?q=https://www.4gamers.com.tw/news/detail/59158/baldur-s-gate-3-review&sa=U&ved=2ahUKEwi395TggY-CAxUNr1YBHWikBYwQFnoECAMQAg&usg=AOvVaw05kzJjuFplrxyZe98i2j-6\n",
      "\n",
      "標題：【柏德之門3】值得買| 伏Game評(CC字幕) - YouTubewww.youtube.com › watch\n",
      "網址：/url?q=https://www.youtube.com/watch%3Fv%3D0cJd2qUY0eo&sa=U&ved=2ahUKEwi395TggY-CAxUNr1YBHWikBYwQtwJ6BAgLEAE&usg=AOvVaw1dp_jk3uWVs_GD-pTnsReE\n",
      "\n",
      "標題：\n",
      "網址：/url?q=https://www.youtube.com/watch%3Fv%3D0cJd2qUY0eo&sa=U&ved=2ahUKEwi395TggY-CAxUNr1YBHWikBYwQuAJ6BAgLEAI&usg=AOvVaw236bbIjF_orT4Q0IHTORJu\n",
      "\n",
      "標題：《柏德之門3/博德之門3》遊戲評測Baldur's Gate 3 Review - YouTubewww.youtube.com › watch\n",
      "網址：/url?q=https://www.youtube.com/watch%3Fv%3DrSjHKH1zx5k&sa=U&ved=2ahUKEwi395TggY-CAxUNr1YBHWikBYwQtwJ6BAgKEAE&usg=AOvVaw2qeVrUZqkoV-x-ahzkly1v\n",
      "\n",
      "標題：\n",
      "網址：/url?q=https://www.youtube.com/watch%3Fv%3DrSjHKH1zx5k&sa=U&ved=2ahUKEwi395TggY-CAxUNr1YBHWikBYwQuAJ6BAgKEAI&usg=AOvVaw3MmrN7rpPDSjtgyasA2ij2\n",
      "\n",
      "標題：柏德之門3 – PS5遊戲| PlayStation (台灣)www.playstation.com › 主頁 › 遊戲\n",
      "網址：/url?q=https://www.playstation.com/zh-hant-tw/games/baldurs-gate-3/&sa=U&ved=2ahUKEwi395TggY-CAxUNr1YBHWikBYwQFnoECAAQAg&usg=AOvVaw1I40XcyuPPHeITwt9xNGp-\n",
      "\n",
      "標題：《柏德之門3》為什麼讓眾多遊戲大廠陷入恐慌？ - YouTubewww.youtube.com › watch\n",
      "網址：/url?q=https://www.youtube.com/watch%3Fv%3DseyHlG4c0LE&sa=U&ved=2ahUKEwi395TggY-CAxUNr1YBHWikBYwQtwJ6BAgJEAE&usg=AOvVaw1h3_FY7Z91Smz0jlEB08Co\n",
      "\n",
      "標題：\n",
      "網址：/url?q=https://www.youtube.com/watch%3Fv%3DseyHlG4c0LE&sa=U&ved=2ahUKEwi395TggY-CAxUNr1YBHWikBYwQuAJ6BAgJEAI&usg=AOvVaw1w8VzAFHD3wZ_Yf6TQ5keq\n",
      "\n",
      "標題：2023年最高分的遊戲柏德之門3 為什麼那麼紅?｜ 遊戲新聞/偷閒加油站www.youtube.com › watch\n",
      "網址：/url?q=https://www.youtube.com/watch%3Fv%3Dgu2s3YHhyAM&sa=U&ved=2ahUKEwi395TggY-CAxUNr1YBHWikBYwQtwJ6BAgGEAE&usg=AOvVaw1ajKcBv0qDhktYUqk9HmxZ\n",
      "\n",
      "標題：\n",
      "網址：/url?q=https://www.youtube.com/watch%3Fv%3Dgu2s3YHhyAM&sa=U&ved=2ahUKEwi395TggY-CAxUNr1YBHWikBYwQuAJ6BAgGEAI&usg=AOvVaw3U82VxADK6AIKO_X3xv_zb\n",
      "\n",
      "標題：《柏德之門3》每個人都趕著想跟主角打砲是bug - 遊戲基地news.gamebase.com.tw › news › detail\n",
      "網址：/url?q=https://news.gamebase.com.tw/news/detail/99414469&sa=U&ved=2ahUKEwi395TggY-CAxUNr1YBHWikBYwQFnoECAUQAg&usg=AOvVaw1oQn2aCWowxx8gVvzOypYn\n",
      "\n"
     ]
    }
   ],
   "source": [
    "import requests\n",
    "from bs4 import BeautifulSoup\n",
    "\n",
    "google_url = 'https://www.google.com.tw/search'\n",
    "\n",
    "my_params = {'q':'柏德之門3'}\n",
    "r = requests.get(google_url,params = my_params)\n",
    "\n",
    "soup = BeautifulSoup(r.text,'html.parser')\n",
    "#print(soup.prettify())\n",
    "\n",
    "items = soup.select('div.kCrYT > a[href^=\"/url\"]')\n",
    "\n",
    "for i in items:\n",
    "  print(\"標題：\" + i.text)\n",
    "  print(\"網址：\" + i.get('href'))\n",
    "  print()"
   ]
  }
 ],
 "metadata": {
  "kernelspec": {
   "display_name": "Python 3",
   "language": "python",
   "name": "python3"
  },
  "language_info": {
   "codemirror_mode": {
    "name": "ipython",
    "version": 3
   },
   "file_extension": ".py",
   "mimetype": "text/x-python",
   "name": "python",
   "nbconvert_exporter": "python",
   "pygments_lexer": "ipython3",
   "version": "3.11.4"
  }
 },
 "nbformat": 4,
 "nbformat_minor": 2
}
