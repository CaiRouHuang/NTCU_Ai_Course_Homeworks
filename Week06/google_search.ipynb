{
 "cells": [
  {
   "cell_type": "code",
   "execution_count": null,
   "metadata": {},
   "outputs": [],
   "source": [
    "import requests\n",
    "from bs4 import BeautifulSoup\n",
    "\n",
    "google_url = 'https://www.google.com.tw/search'\n",
    "\n",
    "my_params = {'q':'柏德之門3'}\n",
    "r = requests.get(google_url,params = my_params)\n",
    "\n",
    "soup = BeautifulSoup(r.text,'html.parser')\n",
    "#print(soup.prettify())\n",
    "\n",
    "items = soup.select('div.kCrYT > a[href^=\"/url\"]')\n",
    "\n",
    "for i in items:\n",
    "  print(\"標題：\" + i.text)\n",
    "  print(\"網址：\" + i.get('href'))\n",
    "  print()"
   ]
  }
 ],
 "metadata": {
  "language_info": {
   "name": "python"
  }
 },
 "nbformat": 4,
 "nbformat_minor": 2
}
